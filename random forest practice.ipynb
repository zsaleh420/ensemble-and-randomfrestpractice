{
 "cells": [
  {
   "cell_type": "code",
   "execution_count": 1,
   "metadata": {},
   "outputs": [],
   "source": [
    "import pandas as pd\n",
    "from sklearn.tree import DecisionTreeClassifier,export_graphviz\n",
    "from sklearn.ensemble import RandomForestClassifier\n",
    "from sklearn import tree\n",
    "from sklearn.model_selection import train_test_split,GridSearchCV\n",
    "from sklearn.preprocessing import StandardScaler\n",
    "from sklearn.metrics import accuracy_score,confusion_matrix,roc_auc_score,roc_curve\n",
    "from six import StringIO\n",
    "from IPython.display import Image\n",
    "from sklearn.tree import export_graphviz\n",
    "import pydotplus"
   ]
  },
  {
   "cell_type": "code",
   "execution_count": 2,
   "metadata": {},
   "outputs": [
    {
     "name": "stdout",
     "output_type": "stream",
     "text": [
      "Requirement already satisfied: pydotplus in c:\\programdata\\anaconda3\\lib\\site-packages (2.0.2)\n",
      "Requirement already satisfied: pyparsing>=2.0.1 in c:\\programdata\\anaconda3\\lib\\site-packages (from pydotplus) (2.4.7)\n",
      "Note: you may need to restart the kernel to use updated packages.\n"
     ]
    }
   ],
   "source": [
    "pip install pydotplus"
   ]
  },
  {
   "cell_type": "code",
   "execution_count": 3,
   "metadata": {},
   "outputs": [
    {
     "data": {
      "text/html": [
       "<div>\n",
       "<style scoped>\n",
       "    .dataframe tbody tr th:only-of-type {\n",
       "        vertical-align: middle;\n",
       "    }\n",
       "\n",
       "    .dataframe tbody tr th {\n",
       "        vertical-align: top;\n",
       "    }\n",
       "\n",
       "    .dataframe thead th {\n",
       "        text-align: right;\n",
       "    }\n",
       "</style>\n",
       "<table border=\"1\" class=\"dataframe\">\n",
       "  <thead>\n",
       "    <tr style=\"text-align: right;\">\n",
       "      <th></th>\n",
       "      <th>fixed acidity</th>\n",
       "      <th>volatile acidity</th>\n",
       "      <th>citric acid</th>\n",
       "      <th>residual sugar</th>\n",
       "      <th>chlorides</th>\n",
       "      <th>free sulfur dioxide</th>\n",
       "      <th>total sulfur dioxide</th>\n",
       "      <th>density</th>\n",
       "      <th>pH</th>\n",
       "      <th>sulphates</th>\n",
       "      <th>alcohol</th>\n",
       "      <th>quality</th>\n",
       "    </tr>\n",
       "  </thead>\n",
       "  <tbody>\n",
       "    <tr>\n",
       "      <th>0</th>\n",
       "      <td>7.4</td>\n",
       "      <td>0.700</td>\n",
       "      <td>0.00</td>\n",
       "      <td>1.9</td>\n",
       "      <td>0.076</td>\n",
       "      <td>11.0</td>\n",
       "      <td>34.0</td>\n",
       "      <td>0.99780</td>\n",
       "      <td>3.51</td>\n",
       "      <td>0.56</td>\n",
       "      <td>9.4</td>\n",
       "      <td>5</td>\n",
       "    </tr>\n",
       "    <tr>\n",
       "      <th>1</th>\n",
       "      <td>7.8</td>\n",
       "      <td>0.880</td>\n",
       "      <td>0.00</td>\n",
       "      <td>2.6</td>\n",
       "      <td>0.098</td>\n",
       "      <td>25.0</td>\n",
       "      <td>67.0</td>\n",
       "      <td>0.99680</td>\n",
       "      <td>3.20</td>\n",
       "      <td>0.68</td>\n",
       "      <td>9.8</td>\n",
       "      <td>5</td>\n",
       "    </tr>\n",
       "    <tr>\n",
       "      <th>2</th>\n",
       "      <td>7.8</td>\n",
       "      <td>0.760</td>\n",
       "      <td>0.04</td>\n",
       "      <td>2.3</td>\n",
       "      <td>0.092</td>\n",
       "      <td>15.0</td>\n",
       "      <td>54.0</td>\n",
       "      <td>0.99700</td>\n",
       "      <td>3.26</td>\n",
       "      <td>0.65</td>\n",
       "      <td>9.8</td>\n",
       "      <td>5</td>\n",
       "    </tr>\n",
       "    <tr>\n",
       "      <th>3</th>\n",
       "      <td>11.2</td>\n",
       "      <td>0.280</td>\n",
       "      <td>0.56</td>\n",
       "      <td>1.9</td>\n",
       "      <td>0.075</td>\n",
       "      <td>17.0</td>\n",
       "      <td>60.0</td>\n",
       "      <td>0.99800</td>\n",
       "      <td>3.16</td>\n",
       "      <td>0.58</td>\n",
       "      <td>9.8</td>\n",
       "      <td>6</td>\n",
       "    </tr>\n",
       "    <tr>\n",
       "      <th>4</th>\n",
       "      <td>7.4</td>\n",
       "      <td>0.700</td>\n",
       "      <td>0.00</td>\n",
       "      <td>1.9</td>\n",
       "      <td>0.076</td>\n",
       "      <td>11.0</td>\n",
       "      <td>34.0</td>\n",
       "      <td>0.99780</td>\n",
       "      <td>3.51</td>\n",
       "      <td>0.56</td>\n",
       "      <td>9.4</td>\n",
       "      <td>5</td>\n",
       "    </tr>\n",
       "    <tr>\n",
       "      <th>...</th>\n",
       "      <td>...</td>\n",
       "      <td>...</td>\n",
       "      <td>...</td>\n",
       "      <td>...</td>\n",
       "      <td>...</td>\n",
       "      <td>...</td>\n",
       "      <td>...</td>\n",
       "      <td>...</td>\n",
       "      <td>...</td>\n",
       "      <td>...</td>\n",
       "      <td>...</td>\n",
       "      <td>...</td>\n",
       "    </tr>\n",
       "    <tr>\n",
       "      <th>1594</th>\n",
       "      <td>6.2</td>\n",
       "      <td>0.600</td>\n",
       "      <td>0.08</td>\n",
       "      <td>2.0</td>\n",
       "      <td>0.090</td>\n",
       "      <td>32.0</td>\n",
       "      <td>44.0</td>\n",
       "      <td>0.99490</td>\n",
       "      <td>3.45</td>\n",
       "      <td>0.58</td>\n",
       "      <td>10.5</td>\n",
       "      <td>5</td>\n",
       "    </tr>\n",
       "    <tr>\n",
       "      <th>1595</th>\n",
       "      <td>5.9</td>\n",
       "      <td>0.550</td>\n",
       "      <td>0.10</td>\n",
       "      <td>2.2</td>\n",
       "      <td>0.062</td>\n",
       "      <td>39.0</td>\n",
       "      <td>51.0</td>\n",
       "      <td>0.99512</td>\n",
       "      <td>3.52</td>\n",
       "      <td>0.76</td>\n",
       "      <td>11.2</td>\n",
       "      <td>6</td>\n",
       "    </tr>\n",
       "    <tr>\n",
       "      <th>1596</th>\n",
       "      <td>6.3</td>\n",
       "      <td>0.510</td>\n",
       "      <td>0.13</td>\n",
       "      <td>2.3</td>\n",
       "      <td>0.076</td>\n",
       "      <td>29.0</td>\n",
       "      <td>40.0</td>\n",
       "      <td>0.99574</td>\n",
       "      <td>3.42</td>\n",
       "      <td>0.75</td>\n",
       "      <td>11.0</td>\n",
       "      <td>6</td>\n",
       "    </tr>\n",
       "    <tr>\n",
       "      <th>1597</th>\n",
       "      <td>5.9</td>\n",
       "      <td>0.645</td>\n",
       "      <td>0.12</td>\n",
       "      <td>2.0</td>\n",
       "      <td>0.075</td>\n",
       "      <td>32.0</td>\n",
       "      <td>44.0</td>\n",
       "      <td>0.99547</td>\n",
       "      <td>3.57</td>\n",
       "      <td>0.71</td>\n",
       "      <td>10.2</td>\n",
       "      <td>5</td>\n",
       "    </tr>\n",
       "    <tr>\n",
       "      <th>1598</th>\n",
       "      <td>6.0</td>\n",
       "      <td>0.310</td>\n",
       "      <td>0.47</td>\n",
       "      <td>3.6</td>\n",
       "      <td>0.067</td>\n",
       "      <td>18.0</td>\n",
       "      <td>42.0</td>\n",
       "      <td>0.99549</td>\n",
       "      <td>3.39</td>\n",
       "      <td>0.66</td>\n",
       "      <td>11.0</td>\n",
       "      <td>6</td>\n",
       "    </tr>\n",
       "  </tbody>\n",
       "</table>\n",
       "<p>1599 rows × 12 columns</p>\n",
       "</div>"
      ],
      "text/plain": [
       "      fixed acidity  volatile acidity  citric acid  residual sugar  chlorides  \\\n",
       "0               7.4             0.700         0.00             1.9      0.076   \n",
       "1               7.8             0.880         0.00             2.6      0.098   \n",
       "2               7.8             0.760         0.04             2.3      0.092   \n",
       "3              11.2             0.280         0.56             1.9      0.075   \n",
       "4               7.4             0.700         0.00             1.9      0.076   \n",
       "...             ...               ...          ...             ...        ...   \n",
       "1594            6.2             0.600         0.08             2.0      0.090   \n",
       "1595            5.9             0.550         0.10             2.2      0.062   \n",
       "1596            6.3             0.510         0.13             2.3      0.076   \n",
       "1597            5.9             0.645         0.12             2.0      0.075   \n",
       "1598            6.0             0.310         0.47             3.6      0.067   \n",
       "\n",
       "      free sulfur dioxide  total sulfur dioxide  density    pH  sulphates  \\\n",
       "0                    11.0                  34.0  0.99780  3.51       0.56   \n",
       "1                    25.0                  67.0  0.99680  3.20       0.68   \n",
       "2                    15.0                  54.0  0.99700  3.26       0.65   \n",
       "3                    17.0                  60.0  0.99800  3.16       0.58   \n",
       "4                    11.0                  34.0  0.99780  3.51       0.56   \n",
       "...                   ...                   ...      ...   ...        ...   \n",
       "1594                 32.0                  44.0  0.99490  3.45       0.58   \n",
       "1595                 39.0                  51.0  0.99512  3.52       0.76   \n",
       "1596                 29.0                  40.0  0.99574  3.42       0.75   \n",
       "1597                 32.0                  44.0  0.99547  3.57       0.71   \n",
       "1598                 18.0                  42.0  0.99549  3.39       0.66   \n",
       "\n",
       "      alcohol  quality  \n",
       "0         9.4        5  \n",
       "1         9.8        5  \n",
       "2         9.8        5  \n",
       "3         9.8        6  \n",
       "4         9.4        5  \n",
       "...       ...      ...  \n",
       "1594     10.5        5  \n",
       "1595     11.2        6  \n",
       "1596     11.0        6  \n",
       "1597     10.2        5  \n",
       "1598     11.0        6  \n",
       "\n",
       "[1599 rows x 12 columns]"
      ]
     },
     "execution_count": 3,
     "metadata": {},
     "output_type": "execute_result"
    }
   ],
   "source": [
    "data=pd.read_csv(\"winequality_red.csv\")\n",
    "data"
   ]
  },
  {
   "cell_type": "code",
   "execution_count": 4,
   "metadata": {},
   "outputs": [
    {
     "data": {
      "text/html": [
       "<div>\n",
       "<style scoped>\n",
       "    .dataframe tbody tr th:only-of-type {\n",
       "        vertical-align: middle;\n",
       "    }\n",
       "\n",
       "    .dataframe tbody tr th {\n",
       "        vertical-align: top;\n",
       "    }\n",
       "\n",
       "    .dataframe thead th {\n",
       "        text-align: right;\n",
       "    }\n",
       "</style>\n",
       "<table border=\"1\" class=\"dataframe\">\n",
       "  <thead>\n",
       "    <tr style=\"text-align: right;\">\n",
       "      <th></th>\n",
       "      <th>fixed acidity</th>\n",
       "      <th>volatile acidity</th>\n",
       "      <th>citric acid</th>\n",
       "      <th>residual sugar</th>\n",
       "      <th>chlorides</th>\n",
       "      <th>free sulfur dioxide</th>\n",
       "      <th>total sulfur dioxide</th>\n",
       "      <th>density</th>\n",
       "      <th>pH</th>\n",
       "      <th>sulphates</th>\n",
       "      <th>alcohol</th>\n",
       "      <th>quality</th>\n",
       "    </tr>\n",
       "  </thead>\n",
       "  <tbody>\n",
       "    <tr>\n",
       "      <th>count</th>\n",
       "      <td>1599.000000</td>\n",
       "      <td>1599.000000</td>\n",
       "      <td>1599.000000</td>\n",
       "      <td>1599.000000</td>\n",
       "      <td>1599.000000</td>\n",
       "      <td>1599.000000</td>\n",
       "      <td>1599.000000</td>\n",
       "      <td>1599.000000</td>\n",
       "      <td>1599.000000</td>\n",
       "      <td>1599.000000</td>\n",
       "      <td>1599.000000</td>\n",
       "      <td>1599.000000</td>\n",
       "    </tr>\n",
       "    <tr>\n",
       "      <th>mean</th>\n",
       "      <td>8.319637</td>\n",
       "      <td>0.527821</td>\n",
       "      <td>0.270976</td>\n",
       "      <td>2.538806</td>\n",
       "      <td>0.087467</td>\n",
       "      <td>15.874922</td>\n",
       "      <td>46.467792</td>\n",
       "      <td>0.996747</td>\n",
       "      <td>3.311113</td>\n",
       "      <td>0.658149</td>\n",
       "      <td>10.422983</td>\n",
       "      <td>5.636023</td>\n",
       "    </tr>\n",
       "    <tr>\n",
       "      <th>std</th>\n",
       "      <td>1.741096</td>\n",
       "      <td>0.179060</td>\n",
       "      <td>0.194801</td>\n",
       "      <td>1.409928</td>\n",
       "      <td>0.047065</td>\n",
       "      <td>10.460157</td>\n",
       "      <td>32.895324</td>\n",
       "      <td>0.001887</td>\n",
       "      <td>0.154386</td>\n",
       "      <td>0.169507</td>\n",
       "      <td>1.065668</td>\n",
       "      <td>0.807569</td>\n",
       "    </tr>\n",
       "    <tr>\n",
       "      <th>min</th>\n",
       "      <td>4.600000</td>\n",
       "      <td>0.120000</td>\n",
       "      <td>0.000000</td>\n",
       "      <td>0.900000</td>\n",
       "      <td>0.012000</td>\n",
       "      <td>1.000000</td>\n",
       "      <td>6.000000</td>\n",
       "      <td>0.990070</td>\n",
       "      <td>2.740000</td>\n",
       "      <td>0.330000</td>\n",
       "      <td>8.400000</td>\n",
       "      <td>3.000000</td>\n",
       "    </tr>\n",
       "    <tr>\n",
       "      <th>25%</th>\n",
       "      <td>7.100000</td>\n",
       "      <td>0.390000</td>\n",
       "      <td>0.090000</td>\n",
       "      <td>1.900000</td>\n",
       "      <td>0.070000</td>\n",
       "      <td>7.000000</td>\n",
       "      <td>22.000000</td>\n",
       "      <td>0.995600</td>\n",
       "      <td>3.210000</td>\n",
       "      <td>0.550000</td>\n",
       "      <td>9.500000</td>\n",
       "      <td>5.000000</td>\n",
       "    </tr>\n",
       "    <tr>\n",
       "      <th>50%</th>\n",
       "      <td>7.900000</td>\n",
       "      <td>0.520000</td>\n",
       "      <td>0.260000</td>\n",
       "      <td>2.200000</td>\n",
       "      <td>0.079000</td>\n",
       "      <td>14.000000</td>\n",
       "      <td>38.000000</td>\n",
       "      <td>0.996750</td>\n",
       "      <td>3.310000</td>\n",
       "      <td>0.620000</td>\n",
       "      <td>10.200000</td>\n",
       "      <td>6.000000</td>\n",
       "    </tr>\n",
       "    <tr>\n",
       "      <th>75%</th>\n",
       "      <td>9.200000</td>\n",
       "      <td>0.640000</td>\n",
       "      <td>0.420000</td>\n",
       "      <td>2.600000</td>\n",
       "      <td>0.090000</td>\n",
       "      <td>21.000000</td>\n",
       "      <td>62.000000</td>\n",
       "      <td>0.997835</td>\n",
       "      <td>3.400000</td>\n",
       "      <td>0.730000</td>\n",
       "      <td>11.100000</td>\n",
       "      <td>6.000000</td>\n",
       "    </tr>\n",
       "    <tr>\n",
       "      <th>max</th>\n",
       "      <td>15.900000</td>\n",
       "      <td>1.580000</td>\n",
       "      <td>1.000000</td>\n",
       "      <td>15.500000</td>\n",
       "      <td>0.611000</td>\n",
       "      <td>72.000000</td>\n",
       "      <td>289.000000</td>\n",
       "      <td>1.003690</td>\n",
       "      <td>4.010000</td>\n",
       "      <td>2.000000</td>\n",
       "      <td>14.900000</td>\n",
       "      <td>8.000000</td>\n",
       "    </tr>\n",
       "  </tbody>\n",
       "</table>\n",
       "</div>"
      ],
      "text/plain": [
       "       fixed acidity  volatile acidity  citric acid  residual sugar  \\\n",
       "count    1599.000000       1599.000000  1599.000000     1599.000000   \n",
       "mean        8.319637          0.527821     0.270976        2.538806   \n",
       "std         1.741096          0.179060     0.194801        1.409928   \n",
       "min         4.600000          0.120000     0.000000        0.900000   \n",
       "25%         7.100000          0.390000     0.090000        1.900000   \n",
       "50%         7.900000          0.520000     0.260000        2.200000   \n",
       "75%         9.200000          0.640000     0.420000        2.600000   \n",
       "max        15.900000          1.580000     1.000000       15.500000   \n",
       "\n",
       "         chlorides  free sulfur dioxide  total sulfur dioxide      density  \\\n",
       "count  1599.000000          1599.000000           1599.000000  1599.000000   \n",
       "mean      0.087467            15.874922             46.467792     0.996747   \n",
       "std       0.047065            10.460157             32.895324     0.001887   \n",
       "min       0.012000             1.000000              6.000000     0.990070   \n",
       "25%       0.070000             7.000000             22.000000     0.995600   \n",
       "50%       0.079000            14.000000             38.000000     0.996750   \n",
       "75%       0.090000            21.000000             62.000000     0.997835   \n",
       "max       0.611000            72.000000            289.000000     1.003690   \n",
       "\n",
       "                pH    sulphates      alcohol      quality  \n",
       "count  1599.000000  1599.000000  1599.000000  1599.000000  \n",
       "mean      3.311113     0.658149    10.422983     5.636023  \n",
       "std       0.154386     0.169507     1.065668     0.807569  \n",
       "min       2.740000     0.330000     8.400000     3.000000  \n",
       "25%       3.210000     0.550000     9.500000     5.000000  \n",
       "50%       3.310000     0.620000    10.200000     6.000000  \n",
       "75%       3.400000     0.730000    11.100000     6.000000  \n",
       "max       4.010000     2.000000    14.900000     8.000000  "
      ]
     },
     "execution_count": 4,
     "metadata": {},
     "output_type": "execute_result"
    }
   ],
   "source": [
    "data.describe()"
   ]
  },
  {
   "cell_type": "code",
   "execution_count": 5,
   "metadata": {},
   "outputs": [],
   "source": [
    "X=data.drop(columns=\"quality\")\n",
    "y=data[\"quality\"]"
   ]
  },
  {
   "cell_type": "code",
   "execution_count": 6,
   "metadata": {},
   "outputs": [],
   "source": [
    "x_train,x_test,y_train,y_test=train_test_split(X,y,test_size=0.30,random_state=355)"
   ]
  },
  {
   "cell_type": "code",
   "execution_count": 7,
   "metadata": {},
   "outputs": [
    {
     "data": {
      "text/plain": [
       "DecisionTreeClassifier()"
      ]
     },
     "execution_count": 7,
     "metadata": {},
     "output_type": "execute_result"
    }
   ],
   "source": [
    "clf=DecisionTreeClassifier(min_samples_split=2)\n",
    "clf.fit(x_train,y_train)"
   ]
  },
  {
   "cell_type": "code",
   "execution_count": 8,
   "metadata": {},
   "outputs": [
    {
     "data": {
      "text/plain": [
       "0.6291666666666667"
      ]
     },
     "execution_count": 8,
     "metadata": {},
     "output_type": "execute_result"
    }
   ],
   "source": [
    "clf.score(x_test,y_test)"
   ]
  },
  {
   "cell_type": "code",
   "execution_count": 9,
   "metadata": {},
   "outputs": [
    {
     "data": {
      "text/plain": [
       "DecisionTreeClassifier(criterion='entropy', max_depth=24)"
      ]
     },
     "execution_count": 9,
     "metadata": {},
     "output_type": "execute_result"
    }
   ],
   "source": [
    "clf2=DecisionTreeClassifier(criterion=\"entropy\",max_depth=24,min_samples_leaf=1)\n",
    "clf2.fit(x_train,y_train)"
   ]
  },
  {
   "cell_type": "code",
   "execution_count": 10,
   "metadata": {},
   "outputs": [
    {
     "data": {
      "text/plain": [
       "0.6270833333333333"
      ]
     },
     "execution_count": 10,
     "metadata": {},
     "output_type": "execute_result"
    }
   ],
   "source": [
    "clf2.score(x_test,y_test)"
   ]
  },
  {
   "cell_type": "code",
   "execution_count": 11,
   "metadata": {},
   "outputs": [],
   "source": [
    "rand_clf=RandomForestClassifier(random_state=6)"
   ]
  },
  {
   "cell_type": "code",
   "execution_count": 12,
   "metadata": {},
   "outputs": [
    {
     "data": {
      "text/plain": [
       "RandomForestClassifier(random_state=6)"
      ]
     },
     "execution_count": 12,
     "metadata": {},
     "output_type": "execute_result"
    }
   ],
   "source": [
    "rand_clf.fit(x_train,y_train)"
   ]
  },
  {
   "cell_type": "code",
   "execution_count": 13,
   "metadata": {},
   "outputs": [
    {
     "data": {
      "text/plain": [
       "0.6708333333333333"
      ]
     },
     "execution_count": 13,
     "metadata": {},
     "output_type": "execute_result"
    }
   ],
   "source": [
    "rand_clf.score(x_test,y_test)"
   ]
  },
  {
   "cell_type": "code",
   "execution_count": 14,
   "metadata": {},
   "outputs": [],
   "source": [
    "grid_param = {\n",
    "    \"n_estimators\" : [90,100,115,130],\n",
    "    'criterion': ['gini', 'entropy'],\n",
    "    'max_depth' : range(2,20,1),\n",
    "    'min_samples_leaf' : range(1,10,1),\n",
    "    'min_samples_split': range(2,10,1),\n",
    "    'max_features' : ['auto','log2']\n",
    "}"
   ]
  },
  {
   "cell_type": "code",
   "execution_count": 15,
   "metadata": {},
   "outputs": [],
   "source": [
    "grid_serach=GridSearchCV(estimator=rand_clf,param_grid=grid_param,cv=5,n_jobs=-1,verbose=3)"
   ]
  },
  {
   "cell_type": "code",
   "execution_count": 16,
   "metadata": {},
   "outputs": [
    {
     "name": "stdout",
     "output_type": "stream",
     "text": [
      "Fitting 5 folds for each of 20736 candidates, totalling 103680 fits\n"
     ]
    },
    {
     "name": "stderr",
     "output_type": "stream",
     "text": [
      "[Parallel(n_jobs=-1)]: Using backend LokyBackend with 24 concurrent workers.\n",
      "[Parallel(n_jobs=-1)]: Done  80 tasks      | elapsed:    4.2s\n",
      "[Parallel(n_jobs=-1)]: Done 240 tasks      | elapsed:    6.8s\n",
      "[Parallel(n_jobs=-1)]: Done 464 tasks      | elapsed:   10.5s\n",
      "[Parallel(n_jobs=-1)]: Done 752 tasks      | elapsed:   15.3s\n",
      "[Parallel(n_jobs=-1)]: Done 1104 tasks      | elapsed:   21.1s\n",
      "[Parallel(n_jobs=-1)]: Done 1520 tasks      | elapsed:   28.0s\n",
      "[Parallel(n_jobs=-1)]: Done 2000 tasks      | elapsed:   35.9s\n",
      "[Parallel(n_jobs=-1)]: Done 2544 tasks      | elapsed:   44.9s\n",
      "[Parallel(n_jobs=-1)]: Done 3152 tasks      | elapsed:   55.1s\n",
      "[Parallel(n_jobs=-1)]: Done 3824 tasks      | elapsed:  1.1min\n",
      "[Parallel(n_jobs=-1)]: Done 4560 tasks      | elapsed:  1.3min\n",
      "[Parallel(n_jobs=-1)]: Done 5360 tasks      | elapsed:  1.6min\n",
      "[Parallel(n_jobs=-1)]: Done 6224 tasks      | elapsed:  1.8min\n",
      "[Parallel(n_jobs=-1)]: Done 7152 tasks      | elapsed:  2.1min\n",
      "[Parallel(n_jobs=-1)]: Done 8144 tasks      | elapsed:  2.4min\n",
      "[Parallel(n_jobs=-1)]: Done 9200 tasks      | elapsed:  2.7min\n",
      "[Parallel(n_jobs=-1)]: Done 10320 tasks      | elapsed:  3.1min\n",
      "[Parallel(n_jobs=-1)]: Done 11504 tasks      | elapsed:  3.4min\n",
      "[Parallel(n_jobs=-1)]: Done 12752 tasks      | elapsed:  3.8min\n",
      "[Parallel(n_jobs=-1)]: Done 14064 tasks      | elapsed:  4.3min\n",
      "[Parallel(n_jobs=-1)]: Done 15440 tasks      | elapsed:  4.7min\n",
      "[Parallel(n_jobs=-1)]: Done 16880 tasks      | elapsed:  5.2min\n",
      "[Parallel(n_jobs=-1)]: Done 18384 tasks      | elapsed:  5.7min\n",
      "[Parallel(n_jobs=-1)]: Done 19952 tasks      | elapsed:  6.2min\n",
      "[Parallel(n_jobs=-1)]: Done 21584 tasks      | elapsed:  6.8min\n",
      "[Parallel(n_jobs=-1)]: Done 23280 tasks      | elapsed:  7.4min\n",
      "[Parallel(n_jobs=-1)]: Done 25040 tasks      | elapsed:  8.0min\n",
      "[Parallel(n_jobs=-1)]: Done 26864 tasks      | elapsed:  8.7min\n",
      "[Parallel(n_jobs=-1)]: Done 28752 tasks      | elapsed:  9.3min\n",
      "[Parallel(n_jobs=-1)]: Done 30704 tasks      | elapsed: 10.0min\n",
      "[Parallel(n_jobs=-1)]: Done 32720 tasks      | elapsed: 10.8min\n",
      "[Parallel(n_jobs=-1)]: Done 34800 tasks      | elapsed: 11.5min\n",
      "[Parallel(n_jobs=-1)]: Done 36944 tasks      | elapsed: 12.3min\n",
      "[Parallel(n_jobs=-1)]: Done 39152 tasks      | elapsed: 13.0min\n",
      "[Parallel(n_jobs=-1)]: Done 41424 tasks      | elapsed: 13.8min\n",
      "[Parallel(n_jobs=-1)]: Done 43760 tasks      | elapsed: 14.7min\n",
      "[Parallel(n_jobs=-1)]: Done 46160 tasks      | elapsed: 15.5min\n",
      "[Parallel(n_jobs=-1)]: Done 48624 tasks      | elapsed: 16.4min\n",
      "[Parallel(n_jobs=-1)]: Done 51152 tasks      | elapsed: 17.3min\n",
      "[Parallel(n_jobs=-1)]: Done 53744 tasks      | elapsed: 18.1min\n",
      "[Parallel(n_jobs=-1)]: Done 56400 tasks      | elapsed: 18.9min\n",
      "[Parallel(n_jobs=-1)]: Done 59120 tasks      | elapsed: 19.9min\n",
      "[Parallel(n_jobs=-1)]: Done 61904 tasks      | elapsed: 20.9min\n",
      "[Parallel(n_jobs=-1)]: Done 64752 tasks      | elapsed: 22.0min\n",
      "[Parallel(n_jobs=-1)]: Done 67664 tasks      | elapsed: 23.2min\n",
      "[Parallel(n_jobs=-1)]: Done 70640 tasks      | elapsed: 24.5min\n",
      "[Parallel(n_jobs=-1)]: Done 73680 tasks      | elapsed: 25.8min\n",
      "[Parallel(n_jobs=-1)]: Done 76784 tasks      | elapsed: 27.2min\n",
      "[Parallel(n_jobs=-1)]: Done 79952 tasks      | elapsed: 28.7min\n",
      "[Parallel(n_jobs=-1)]: Done 83184 tasks      | elapsed: 30.1min\n",
      "[Parallel(n_jobs=-1)]: Done 86480 tasks      | elapsed: 31.6min\n",
      "[Parallel(n_jobs=-1)]: Done 89840 tasks      | elapsed: 33.2min\n",
      "[Parallel(n_jobs=-1)]: Done 93264 tasks      | elapsed: 34.7min\n",
      "[Parallel(n_jobs=-1)]: Done 96752 tasks      | elapsed: 36.4min\n",
      "[Parallel(n_jobs=-1)]: Done 100304 tasks      | elapsed: 38.0min\n",
      "[Parallel(n_jobs=-1)]: Done 103680 out of 103680 | elapsed: 39.5min finished\n"
     ]
    },
    {
     "data": {
      "text/plain": [
       "GridSearchCV(cv=5, estimator=RandomForestClassifier(random_state=6), n_jobs=-1,\n",
       "             param_grid={'criterion': ['gini', 'entropy'],\n",
       "                         'max_depth': range(2, 20),\n",
       "                         'max_features': ['auto', 'log2'],\n",
       "                         'min_samples_leaf': range(1, 10),\n",
       "                         'min_samples_split': range(2, 10),\n",
       "                         'n_estimators': [90, 100, 115, 130]},\n",
       "             verbose=3)"
      ]
     },
     "execution_count": 16,
     "metadata": {},
     "output_type": "execute_result"
    }
   ],
   "source": [
    "grid_serach.fit(x_train,y_train)"
   ]
  },
  {
   "cell_type": "code",
   "execution_count": 17,
   "metadata": {},
   "outputs": [
    {
     "data": {
      "text/plain": [
       "{'criterion': 'entropy',\n",
       " 'max_depth': 11,\n",
       " 'max_features': 'auto',\n",
       " 'min_samples_leaf': 2,\n",
       " 'min_samples_split': 2,\n",
       " 'n_estimators': 115}"
      ]
     },
     "execution_count": 17,
     "metadata": {},
     "output_type": "execute_result"
    }
   ],
   "source": [
    "grid_serach.best_params_"
   ]
  },
  {
   "cell_type": "code",
   "execution_count": 18,
   "metadata": {},
   "outputs": [
    {
     "data": {
      "text/plain": [
       "0.6809617232543241"
      ]
     },
     "execution_count": 18,
     "metadata": {},
     "output_type": "execute_result"
    }
   ],
   "source": [
    "grid_serach.best_score_"
   ]
  },
  {
   "cell_type": "code",
   "execution_count": 22,
   "metadata": {},
   "outputs": [],
   "source": [
    "rand_clf=RandomForestClassifier(criterion=\"entropy\",max_depth=11,max_features=\"auto\",min_samples_leaf=2,min_samples_split=2,\n",
    "                               n_estimators=115,random_state=6)"
   ]
  },
  {
   "cell_type": "code",
   "execution_count": 23,
   "metadata": {},
   "outputs": [
    {
     "data": {
      "text/plain": [
       "RandomForestClassifier(criterion='entropy', max_depth=11, min_samples_leaf=2,\n",
       "                       n_estimators=115, random_state=6)"
      ]
     },
     "execution_count": 23,
     "metadata": {},
     "output_type": "execute_result"
    }
   ],
   "source": [
    "rand_clf.fit(x_train,y_train)"
   ]
  },
  {
   "cell_type": "code",
   "execution_count": 24,
   "metadata": {},
   "outputs": [
    {
     "data": {
      "text/plain": [
       "0.65625"
      ]
     },
     "execution_count": 24,
     "metadata": {},
     "output_type": "execute_result"
    }
   ],
   "source": [
    "rand_clf.score(x_test,y_test)"
   ]
  },
  {
   "cell_type": "code",
   "execution_count": 25,
   "metadata": {},
   "outputs": [],
   "source": [
    "grid_param = {\n",
    "    \"n_estimators\" : [90,100,115],\n",
    "    'criterion': ['gini', 'entropy'],\n",
    "    'min_samples_leaf' : [1,2,3,4,5],\n",
    "    'min_samples_split': [4,5,6,7,8],\n",
    "    'max_features' : ['auto','log2']\n",
    "}"
   ]
  },
  {
   "cell_type": "code",
   "execution_count": 26,
   "metadata": {},
   "outputs": [],
   "source": [
    "grid_serch=GridSearchCV(estimator=rand_clf,param_grid=grid_param,cv=5,n_jobs=-1,verbose=3)"
   ]
  },
  {
   "cell_type": "code",
   "execution_count": 27,
   "metadata": {},
   "outputs": [
    {
     "name": "stdout",
     "output_type": "stream",
     "text": [
      "Fitting 5 folds for each of 20736 candidates, totalling 103680 fits\n"
     ]
    },
    {
     "name": "stderr",
     "output_type": "stream",
     "text": [
      "[Parallel(n_jobs=-1)]: Using backend LokyBackend with 24 concurrent workers.\n",
      "[Parallel(n_jobs=-1)]: Done  80 tasks      | elapsed:    4.7s\n",
      "[Parallel(n_jobs=-1)]: Done 240 tasks      | elapsed:    7.3s\n",
      "[Parallel(n_jobs=-1)]: Done 464 tasks      | elapsed:   11.0s\n",
      "[Parallel(n_jobs=-1)]: Done 752 tasks      | elapsed:   15.8s\n",
      "[Parallel(n_jobs=-1)]: Done 1104 tasks      | elapsed:   21.6s\n",
      "[Parallel(n_jobs=-1)]: Done 1520 tasks      | elapsed:   28.5s\n",
      "[Parallel(n_jobs=-1)]: Done 2000 tasks      | elapsed:   36.4s\n",
      "[Parallel(n_jobs=-1)]: Done 2544 tasks      | elapsed:   45.4s\n",
      "[Parallel(n_jobs=-1)]: Done 3152 tasks      | elapsed:   55.6s\n",
      "[Parallel(n_jobs=-1)]: Done 3824 tasks      | elapsed:  1.1min\n",
      "[Parallel(n_jobs=-1)]: Done 4560 tasks      | elapsed:  1.3min\n",
      "[Parallel(n_jobs=-1)]: Done 5360 tasks      | elapsed:  1.6min\n",
      "[Parallel(n_jobs=-1)]: Done 6224 tasks      | elapsed:  1.8min\n",
      "[Parallel(n_jobs=-1)]: Done 7152 tasks      | elapsed:  2.1min\n",
      "[Parallel(n_jobs=-1)]: Done 8144 tasks      | elapsed:  2.4min\n",
      "[Parallel(n_jobs=-1)]: Done 9200 tasks      | elapsed:  2.7min\n",
      "[Parallel(n_jobs=-1)]: Done 10320 tasks      | elapsed:  3.1min\n",
      "[Parallel(n_jobs=-1)]: Done 11504 tasks      | elapsed:  3.4min\n",
      "[Parallel(n_jobs=-1)]: Done 12752 tasks      | elapsed:  3.8min\n",
      "[Parallel(n_jobs=-1)]: Done 14064 tasks      | elapsed:  4.3min\n",
      "[Parallel(n_jobs=-1)]: Done 15440 tasks      | elapsed:  4.7min\n",
      "[Parallel(n_jobs=-1)]: Done 16880 tasks      | elapsed:  5.2min\n",
      "[Parallel(n_jobs=-1)]: Done 18384 tasks      | elapsed:  5.8min\n",
      "[Parallel(n_jobs=-1)]: Done 19952 tasks      | elapsed:  6.3min\n",
      "[Parallel(n_jobs=-1)]: Done 21584 tasks      | elapsed:  6.9min\n",
      "[Parallel(n_jobs=-1)]: Done 23280 tasks      | elapsed:  7.5min\n",
      "[Parallel(n_jobs=-1)]: Done 25040 tasks      | elapsed:  8.1min\n",
      "[Parallel(n_jobs=-1)]: Done 26864 tasks      | elapsed:  8.8min\n",
      "[Parallel(n_jobs=-1)]: Done 28752 tasks      | elapsed:  9.5min\n",
      "[Parallel(n_jobs=-1)]: Done 30704 tasks      | elapsed: 10.2min\n",
      "[Parallel(n_jobs=-1)]: Done 32720 tasks      | elapsed: 10.9min\n",
      "[Parallel(n_jobs=-1)]: Done 34800 tasks      | elapsed: 11.6min\n",
      "[Parallel(n_jobs=-1)]: Done 36944 tasks      | elapsed: 12.4min\n",
      "[Parallel(n_jobs=-1)]: Done 39152 tasks      | elapsed: 13.2min\n",
      "[Parallel(n_jobs=-1)]: Done 41424 tasks      | elapsed: 14.0min\n",
      "[Parallel(n_jobs=-1)]: Done 43760 tasks      | elapsed: 14.8min\n",
      "[Parallel(n_jobs=-1)]: Done 46160 tasks      | elapsed: 15.6min\n",
      "[Parallel(n_jobs=-1)]: Done 48624 tasks      | elapsed: 16.5min\n",
      "[Parallel(n_jobs=-1)]: Done 51152 tasks      | elapsed: 17.4min\n",
      "[Parallel(n_jobs=-1)]: Done 53744 tasks      | elapsed: 18.2min\n",
      "[Parallel(n_jobs=-1)]: Done 56400 tasks      | elapsed: 19.1min\n",
      "[Parallel(n_jobs=-1)]: Done 59120 tasks      | elapsed: 20.0min\n",
      "[Parallel(n_jobs=-1)]: Done 61904 tasks      | elapsed: 21.0min\n",
      "[Parallel(n_jobs=-1)]: Done 64752 tasks      | elapsed: 22.1min\n",
      "[Parallel(n_jobs=-1)]: Done 67664 tasks      | elapsed: 23.3min\n",
      "[Parallel(n_jobs=-1)]: Done 70640 tasks      | elapsed: 24.6min\n",
      "[Parallel(n_jobs=-1)]: Done 73680 tasks      | elapsed: 25.9min\n",
      "[Parallel(n_jobs=-1)]: Done 76784 tasks      | elapsed: 27.3min\n",
      "[Parallel(n_jobs=-1)]: Done 79952 tasks      | elapsed: 28.8min\n",
      "[Parallel(n_jobs=-1)]: Done 83184 tasks      | elapsed: 30.2min\n",
      "[Parallel(n_jobs=-1)]: Done 86480 tasks      | elapsed: 31.7min\n",
      "[Parallel(n_jobs=-1)]: Done 89840 tasks      | elapsed: 33.3min\n",
      "[Parallel(n_jobs=-1)]: Done 93264 tasks      | elapsed: 34.9min\n",
      "[Parallel(n_jobs=-1)]: Done 96752 tasks      | elapsed: 36.5min\n",
      "[Parallel(n_jobs=-1)]: Done 100304 tasks      | elapsed: 38.1min\n",
      "[Parallel(n_jobs=-1)]: Done 103680 out of 103680 | elapsed: 39.6min finished\n"
     ]
    },
    {
     "data": {
      "text/plain": [
       "GridSearchCV(cv=5, estimator=RandomForestClassifier(random_state=6), n_jobs=-1,\n",
       "             param_grid={'criterion': ['gini', 'entropy'],\n",
       "                         'max_depth': range(2, 20),\n",
       "                         'max_features': ['auto', 'log2'],\n",
       "                         'min_samples_leaf': range(1, 10),\n",
       "                         'min_samples_split': range(2, 10),\n",
       "                         'n_estimators': [90, 100, 115, 130]},\n",
       "             verbose=3)"
      ]
     },
     "execution_count": 27,
     "metadata": {},
     "output_type": "execute_result"
    }
   ],
   "source": [
    "grid_serach.fit(x_train,y_train)"
   ]
  },
  {
   "cell_type": "code",
   "execution_count": 28,
   "metadata": {},
   "outputs": [
    {
     "data": {
      "text/plain": [
       "{'criterion': 'entropy',\n",
       " 'max_depth': 11,\n",
       " 'max_features': 'auto',\n",
       " 'min_samples_leaf': 2,\n",
       " 'min_samples_split': 2,\n",
       " 'n_estimators': 115}"
      ]
     },
     "execution_count": 28,
     "metadata": {},
     "output_type": "execute_result"
    }
   ],
   "source": [
    "grid_serach.best_params_"
   ]
  },
  {
   "cell_type": "code",
   "execution_count": 29,
   "metadata": {},
   "outputs": [
    {
     "data": {
      "text/plain": [
       "0.6809617232543241"
      ]
     },
     "execution_count": 29,
     "metadata": {},
     "output_type": "execute_result"
    }
   ],
   "source": [
    "grid_serach.best_score_"
   ]
  },
  {
   "cell_type": "code",
   "execution_count": 30,
   "metadata": {},
   "outputs": [],
   "source": [
    "rand_clf=RandomForestClassifier(criterion=\"entropy\",max_depth=11,max_features=\"auto\",min_samples_leaf=2,min_samples_split=2,\n",
    "                               n_estimators=115,random_state=6)"
   ]
  },
  {
   "cell_type": "code",
   "execution_count": 31,
   "metadata": {},
   "outputs": [
    {
     "data": {
      "text/plain": [
       "RandomForestClassifier(criterion='entropy', max_depth=11, min_samples_leaf=2,\n",
       "                       n_estimators=115, random_state=6)"
      ]
     },
     "execution_count": 31,
     "metadata": {},
     "output_type": "execute_result"
    }
   ],
   "source": [
    "rand_clf.fit(x_train,y_train)"
   ]
  },
  {
   "cell_type": "code",
   "execution_count": 32,
   "metadata": {},
   "outputs": [
    {
     "data": {
      "text/plain": [
       "0.65625"
      ]
     },
     "execution_count": 32,
     "metadata": {},
     "output_type": "execute_result"
    }
   ],
   "source": [
    "rand_clf.score(x_test,y_test)"
   ]
  },
  {
   "cell_type": "code",
   "execution_count": 33,
   "metadata": {},
   "outputs": [],
   "source": [
    "import pickle"
   ]
  },
  {
   "cell_type": "code",
   "execution_count": 35,
   "metadata": {},
   "outputs": [],
   "source": [
    "with open(\"final_model.sav\",\"wb\")as f:\n",
    "    pickle.dump(rand_clf,f)"
   ]
  },
  {
   "cell_type": "code",
   "execution_count": 36,
   "metadata": {},
   "outputs": [
    {
     "data": {
      "text/plain": [
       "array([5, 5, 5, 5, 6, 5, 5, 7, 5, 5, 5, 6, 5, 5, 5, 6, 6, 7, 7, 7, 6, 5,\n",
       "       5, 6, 5, 6, 5, 5, 6, 5, 6, 6, 6, 6, 5, 6, 5, 6, 5, 7, 5, 6, 5, 6,\n",
       "       5, 6, 5, 6, 6, 6, 6, 5, 5, 6, 5, 6, 5, 6, 5, 6, 5, 5, 5, 5, 7, 6,\n",
       "       7, 6, 6, 5, 6, 5, 5, 5, 5, 5, 5, 6, 5, 4, 6, 5, 6, 5, 5, 5, 5, 6,\n",
       "       6, 5, 6, 6, 6, 6, 5, 5, 5, 5, 5, 5, 5, 6, 6, 5, 6, 5, 7, 7, 6, 6,\n",
       "       5, 6, 5, 5, 5, 6, 6, 6, 5, 6, 5, 6, 6, 5, 7, 5, 5, 5, 6, 6, 6, 6,\n",
       "       6, 5, 6, 6, 5, 6, 5, 6, 5, 7, 7, 6, 6, 7, 5, 5, 6, 6, 6, 7, 5, 5,\n",
       "       6, 5, 5, 6, 7, 5, 6, 6, 6, 6, 5, 7, 6, 6, 5, 6, 7, 6, 7, 7, 6, 5,\n",
       "       6, 6, 5, 6, 6, 5, 6, 6, 6, 6, 5, 6, 5, 6, 6, 6, 6, 5, 6, 5, 5, 7,\n",
       "       7, 5, 6, 5, 5, 5, 7, 5, 5, 6, 5, 5, 6, 6, 7, 5, 5, 7, 6, 6, 5, 5,\n",
       "       6, 6, 5, 5, 5, 5, 6, 6, 5, 6, 5, 6, 5, 5, 6, 7, 6, 6, 7, 5, 5, 5,\n",
       "       5, 5, 5, 7, 5, 6, 5, 5, 5, 5, 5, 6, 5, 6, 5, 5, 6, 5, 5, 6, 6, 5,\n",
       "       5, 6, 5, 5, 6, 5, 6, 6, 5, 5, 5, 5, 5, 5, 5, 5, 6, 5, 7, 5, 5, 6,\n",
       "       6, 7, 5, 7, 5, 5, 5, 5, 5, 5, 5, 7, 6, 5, 7, 7, 7, 6, 7, 5, 5, 5,\n",
       "       6, 5, 6, 5, 5, 5, 6, 5, 6, 6, 5, 6, 6, 5, 5, 5, 5, 7, 6, 6, 6, 7,\n",
       "       5, 5, 6, 5, 5, 6, 5, 5, 5, 5, 5, 5, 5, 5, 7, 6, 5, 6, 7, 5, 6, 6,\n",
       "       6, 5, 5, 6, 6, 5, 6, 5, 6, 5, 5, 5, 5, 5, 6, 5, 6, 6, 6, 7, 5, 5,\n",
       "       6, 5, 6, 5, 5, 5, 6, 6, 6, 5, 5, 5, 5, 5, 5, 5, 6, 5, 5, 5, 6, 5,\n",
       "       6, 5, 6, 7, 6, 6, 5, 5, 6, 6, 5, 5, 6, 5, 6, 5, 5, 6, 6, 5, 5, 5,\n",
       "       5, 6, 6, 5, 5, 6, 6, 6, 6, 5, 6, 7, 5, 6, 6, 5, 5, 6, 6, 6, 5, 6,\n",
       "       5, 6, 6, 6, 6, 6, 5, 5, 6, 6, 6, 5, 6, 5, 5, 6, 6, 6, 6, 7, 6, 5,\n",
       "       6, 5, 5, 5, 5, 5, 5, 5, 5, 7, 5, 5, 5, 6, 6, 5, 6, 6], dtype=int64)"
      ]
     },
     "execution_count": 36,
     "metadata": {},
     "output_type": "execute_result"
    }
   ],
   "source": [
    "rand_clf.predict(x_test)"
   ]
  },
  {
   "cell_type": "code",
   "execution_count": null,
   "metadata": {},
   "outputs": [],
   "source": []
  }
 ],
 "metadata": {
  "kernelspec": {
   "display_name": "Python 3",
   "language": "python",
   "name": "python3"
  },
  "language_info": {
   "codemirror_mode": {
    "name": "ipython",
    "version": 3
   },
   "file_extension": ".py",
   "mimetype": "text/x-python",
   "name": "python",
   "nbconvert_exporter": "python",
   "pygments_lexer": "ipython3",
   "version": "3.8.5"
  }
 },
 "nbformat": 4,
 "nbformat_minor": 4
}
